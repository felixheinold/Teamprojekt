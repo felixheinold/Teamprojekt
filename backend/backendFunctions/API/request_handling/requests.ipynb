{
 "cells": [
  {
   "cell_type": "code",
   "execution_count": 55,
   "id": "9d3a3b11",
   "metadata": {},
   "outputs": [
    {
     "name": "stdout",
     "output_type": "stream",
     "text": [
      "{'user_id': '1A2B3C4D', 'user_name': 'Hans', 'user_mail': 'uhans@student.kit.edu', 'user_password': 'passwort123', 'user_profile_picture': 'hund', 'user_game_info': {'highscore': 1000, 'last_game_date': '01.01.2025'}, 'user_updates': {'user_profile_picture': 'Katze'}}\n"
     ]
    }
   ],
   "source": [
    "import requests\n",
    "import json\n",
    "\n",
    "BASE_URL = \"http://127.0.0.1:8000\"  # Lokale FastAPI-Adresse\n",
    "\n",
    "with open(\"../data/user_example.json\", \"r\") as f:\n",
    "    example_user = json.load(f)\n",
    "    print (example_user)\n"
   ]
  },
  {
   "cell_type": "code",
   "execution_count": 40,
   "id": "1d9f14a1",
   "metadata": {},
   "outputs": [
    {
     "name": "stdout",
     "output_type": "stream",
     "text": [
      "GET: {'user_name': 'Hans', 'user_id': '1A2B3C4D', 'user_mail': 'uhans@student.kit.edu', 'user_game_info': {'last_game_date': '01.01.2025', 'highscore': 1000}, 'user_profile_picture': 'schneeleopard', 'user_password': 'passwort123'}\n"
     ]
    }
   ],
   "source": [
    "# GET-Anfrage (z. B. User abrufen)\n",
    "response = requests.get(f\"{BASE_URL}/users/hansUSERID123\")\n",
    "print(\"GET:\", response.json())"
   ]
  },
  {
   "cell_type": "code",
   "execution_count": null,
   "id": "2bef2734",
   "metadata": {},
   "outputs": [
    {
     "name": "stdout",
     "output_type": "stream",
     "text": [
      "POST: {'status': 'Update für hansUSERID123', 'updated': {'user_profile_picture': 'Katze'}}\n",
      "{}\n",
      "{'user_id': '1A2B3C4D', 'user_name': 'Hans', 'user_mail': 'uhans@student.kit.edu', 'user_password': 'passwort123', 'user_profile_picture': 'Katze', 'user_game_info': {'highscore': 1000, 'last_game_date': '01.01.2025'}, 'user_updates': {}}\n"
     ]
    },
    {
     "ename": "",
     "evalue": "",
     "output_type": "error",
     "traceback": [
      "\u001b[1;31mThe Kernel crashed while executing code in the current cell or a previous cell. \n",
      "\u001b[1;31mPlease review the code in the cell(s) to identify a possible cause of the failure. \n",
      "\u001b[1;31mClick <a href='https://aka.ms/vscodeJupyterKernelCrash'>here</a> for more info. \n",
      "\u001b[1;31mView Jupyter <a href='command:jupyter.viewOutput'>log</a> for further details."
     ]
    }
   ],
   "source": [
    "# POST-Anfrage (z. B. User erstellen oder updaten)\n",
    "response = requests.post(f\"{BASE_URL}/users/hansUSERID123/update\", json=example_user)\n",
    "\n",
    "for (key2, value2) in example_user[\"user_updates\"].items():\n",
    "    example_user[key2] = value2\n",
    "\n",
    "example_user[\"user_updates\"] = {}\n",
    "\n",
    "print(\"POST:\", response.json())\n",
    "print(example_user[\"user_updates\"])\n",
    "print(example_user)"
   ]
  },
  {
   "cell_type": "code",
   "execution_count": 41,
   "id": "a1243fde",
   "metadata": {},
   "outputs": [
    {
     "name": "stdout",
     "output_type": "stream",
     "text": [
      "DELETE: {'status': 'User MoFl0804 gelöscht'}\n"
     ]
    }
   ],
   "source": [
    "# DELETE-Anfrage\n",
    "response = requests.delete(f\"{BASE_URL}/users/MoFl0804\")\n",
    "print(\"DELETE:\", response.json())"
   ]
  }
 ],
 "metadata": {
  "kernelspec": {
   "display_name": "myEnv",
   "language": "python",
   "name": "python3"
  },
  "language_info": {
   "codemirror_mode": {
    "name": "ipython",
    "version": 3
   },
   "file_extension": ".py",
   "mimetype": "text/x-python",
   "name": "python",
   "nbconvert_exporter": "python",
   "pygments_lexer": "ipython3",
   "version": "3.13.3"
  }
 },
 "nbformat": 4,
 "nbformat_minor": 5
}
